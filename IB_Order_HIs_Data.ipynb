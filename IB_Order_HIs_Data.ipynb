{
 "cells": [
  {
   "cell_type": "code",
   "execution_count": 5,
   "id": "74eb1361-bd8c-43f4-a9e2-1df35facf9d0",
   "metadata": {
    "tags": []
   },
   "outputs": [],
   "source": [
    "import pandas as pd\n",
    "import numpy as np\n",
    "import datetime\n",
    "import time\n",
    "import os\n",
    "import akshare as ak\n",
    "import ib_insync\n",
    "from ib_insync import *\n",
    "import threading\n",
    "import sys"
   ]
  },
  {
   "cell_type": "code",
   "execution_count": 6,
   "id": "d1dd4b0e-992c-42af-a5ad-359cde835848",
   "metadata": {
    "tags": []
   },
   "outputs": [
    {
     "name": "stdout",
     "output_type": "stream",
     "text": [
      "               datetime                                            content\n",
      "90  2022-12-21 16:08:49  【行情】港股收盘，恒指小幅收涨0.34%，恒生科技指数收涨0.71%。教育、餐饮、黄金板块涨...\n",
      "91  2022-12-21 16:09:24                 【行情】英镑兑美元GBP/USD短线下挫近30点，现报1.2155。\n",
      "92  2022-12-21 16:11:26  【股市收盘】<br/>香港恒生指数12月21日（周三）收盘上涨65.69点，涨幅0.34%，...\n",
      "93  2022-12-21 16:13:15  法国主要银行集团BPCE：承诺在2020年至2030年期间将与石油和天然气行业融资相关的碳排...\n",
      "94  2022-12-21 16:17:15      瑞典国家经济研究院（NIER）：预计2023年GDP为-1.1%，而9月预测为-0.1%。\n",
      "95  2022-12-21 16:17:49  <b>日本央行带崩美元，美债收益率走强，黄金多头剑指何方？机构级GMA指标今日黄金交易计划，...\n",
      "96  2022-12-21 16:18:43  【工信部：1-10月全国锂电总产量超过580GWh】金十数据12月21日讯，2022年1-1...\n",
      "97  2022-12-21 16:18:56                         不服？马斯克暗示推特投票结果或被操纵……点击查看>>\n",
      "98  2022-12-21 16:24:17  俄防疫指挥部：俄单日新增新冠病毒感染病例7442例，累计超2173.5万例，新增死亡病例59...\n",
      "99  2022-12-21 16:24:43  美指短线跌破第一支撑，黄金在首要支撑附近徘徊，WTI原油或面临方向选择，欧美突破首个上行目标...\r"
     ]
    }
   ],
   "source": [
    "js_News = ak.js_news(timestamp='最新数据')\n",
    "print(js_News.tail(10), end=\"\\r\")"
   ]
  },
  {
   "cell_type": "code",
   "execution_count": 9,
   "id": "98839ca3-522a-49b9-8f0a-881213974aa3",
   "metadata": {},
   "outputs": [
    {
     "data": {
      "text/plain": [
       "<IB connected to 127.0.0.1:4002 clientId=1>"
      ]
     },
     "execution_count": 9,
     "metadata": {},
     "output_type": "execute_result"
    }
   ],
   "source": [
    "util.startLoop()\n",
    "ib = IB()\n",
    "ib.connect('127.0.0.1', 4002,clientId=1)"
   ]
  },
  {
   "cell_type": "code",
   "execution_count": 40,
   "id": "f3882935-4bff-4083-a9b0-cdeb890e2a3b",
   "metadata": {},
   "outputs": [],
   "source": [
    "hk169 = ContFuture('HSI', 'HKFE', 'HKD')"
   ]
  },
  {
   "cell_type": "code",
   "execution_count": 41,
   "id": "e3bbad98-f829-45c0-870a-60b0658104b4",
   "metadata": {
    "tags": []
   },
   "outputs": [],
   "source": [
    "hk169 = ib.reqHistoricalData(\n",
    "        hk169,\n",
    "        endDateTime='',\n",
    "        durationStr='1 D',\n",
    "        barSizeSetting='1 min',\n",
    "        whatToShow='TRADES',\n",
    "        useRTH=False,\n",
    "        formatDate=2)\n",
    "df = util.df(hk169)    "
   ]
  },
  {
   "cell_type": "code",
   "execution_count": 42,
   "id": "e346877d-4afd-41d0-a07d-a5b8417589d0",
   "metadata": {},
   "outputs": [
    {
     "name": "stderr",
     "output_type": "stream",
     "text": [
      "/tmp/ipykernel_18243/3716248130.py:7: FutureWarning: In a future version, `df.iloc[:, i] = newvals` will attempt to set the values inplace instead of always setting a new array. To retain the old behavior, use either `df[df.columns[i]] = newvals` or, if columns are non-unique, `df.isetitem(i, newvals)`\n",
      "  df.iloc[:,2:] = df.iloc[:,2:].astype('int32')\n"
     ]
    }
   ],
   "source": [
    "df['date'] = df['date'].dt.tz_convert('Asia/Shanghai')\n",
    "df['date'] = df['date'].dt.tz_localize(None)\n",
    "df['Dates'] = pd.to_datetime(df['date']).dt.date\n",
    "df['Time'] = pd.to_datetime(df['date']).dt.time\n",
    "df.tail()\n",
    "df = df[['Dates', 'Time','open', 'high', 'low', 'close']]\n",
    "df.iloc[:,2:] = df.iloc[:,2:].astype('int32')"
   ]
  },
  {
   "cell_type": "code",
   "execution_count": 43,
   "id": "2f532858-9922-43a9-90cd-7cb724d4c523",
   "metadata": {},
   "outputs": [
    {
     "data": {
      "text/html": [
       "<div>\n",
       "<style scoped>\n",
       "    .dataframe tbody tr th:only-of-type {\n",
       "        vertical-align: middle;\n",
       "    }\n",
       "\n",
       "    .dataframe tbody tr th {\n",
       "        vertical-align: top;\n",
       "    }\n",
       "\n",
       "    .dataframe thead th {\n",
       "        text-align: right;\n",
       "    }\n",
       "</style>\n",
       "<table border=\"1\" class=\"dataframe\">\n",
       "  <thead>\n",
       "    <tr style=\"text-align: right;\">\n",
       "      <th></th>\n",
       "      <th>Dates</th>\n",
       "      <th>Time</th>\n",
       "      <th>open</th>\n",
       "      <th>high</th>\n",
       "      <th>low</th>\n",
       "      <th>close</th>\n",
       "    </tr>\n",
       "  </thead>\n",
       "  <tbody>\n",
       "    <tr>\n",
       "      <th>955</th>\n",
       "      <td>2022-12-21</td>\n",
       "      <td>16:25:00</td>\n",
       "      <td>19192</td>\n",
       "      <td>19199</td>\n",
       "      <td>19190</td>\n",
       "      <td>19199</td>\n",
       "    </tr>\n",
       "    <tr>\n",
       "      <th>956</th>\n",
       "      <td>2022-12-21</td>\n",
       "      <td>16:26:00</td>\n",
       "      <td>19197</td>\n",
       "      <td>19203</td>\n",
       "      <td>19197</td>\n",
       "      <td>19201</td>\n",
       "    </tr>\n",
       "    <tr>\n",
       "      <th>957</th>\n",
       "      <td>2022-12-21</td>\n",
       "      <td>16:27:00</td>\n",
       "      <td>19199</td>\n",
       "      <td>19202</td>\n",
       "      <td>19196</td>\n",
       "      <td>19201</td>\n",
       "    </tr>\n",
       "    <tr>\n",
       "      <th>958</th>\n",
       "      <td>2022-12-21</td>\n",
       "      <td>16:28:00</td>\n",
       "      <td>19202</td>\n",
       "      <td>19205</td>\n",
       "      <td>19188</td>\n",
       "      <td>19191</td>\n",
       "    </tr>\n",
       "    <tr>\n",
       "      <th>959</th>\n",
       "      <td>2022-12-21</td>\n",
       "      <td>16:29:00</td>\n",
       "      <td>19189</td>\n",
       "      <td>19192</td>\n",
       "      <td>19175</td>\n",
       "      <td>19186</td>\n",
       "    </tr>\n",
       "  </tbody>\n",
       "</table>\n",
       "</div>"
      ],
      "text/plain": [
       "          Dates      Time   open   high    low  close\n",
       "955  2022-12-21  16:25:00  19192  19199  19190  19199\n",
       "956  2022-12-21  16:26:00  19197  19203  19197  19201\n",
       "957  2022-12-21  16:27:00  19199  19202  19196  19201\n",
       "958  2022-12-21  16:28:00  19202  19205  19188  19191\n",
       "959  2022-12-21  16:29:00  19189  19192  19175  19186"
      ]
     },
     "execution_count": 43,
     "metadata": {},
     "output_type": "execute_result"
    }
   ],
   "source": [
    "df.tail()"
   ]
  },
  {
   "cell_type": "code",
   "execution_count": 45,
   "id": "870a1e07-a6eb-48f0-b345-05dfed76f5fd",
   "metadata": {},
   "outputs": [],
   "source": [
    "positions=ib.positions()\n",
    "account = ib.accountSummary()"
   ]
  },
  {
   "cell_type": "code",
   "execution_count": null,
   "id": "069b34a9-c447-425d-ad45-d7a6c5b25620",
   "metadata": {},
   "outputs": [
    {
     "ename": "AttributeError",
     "evalue": "module 'datetime' has no attribute 'tz_convert'",
     "output_type": "error",
     "traceback": [
      "\u001b[0;31m---------------------------------------------------------------------------\u001b[0m",
      "\u001b[0;31mAttributeError\u001b[0m                            Traceback (most recent call last)",
      "Cell \u001b[0;32mIn[37], line 1\u001b[0m\n\u001b[0;32m----> 1\u001b[0m df \u001b[38;5;241m=\u001b[39m util\u001b[38;5;241m.\u001b[39mdf(bars_spy,\u001b[43mdt\u001b[49m\u001b[38;5;241;43m.\u001b[39;49m\u001b[43mtz_convert\u001b[49m(\u001b[38;5;124m'\u001b[39m\u001b[38;5;124mAsia/Shanghai\u001b[39m\u001b[38;5;124m'\u001b[39m))                                              \n",
      "\u001b[0;31mAttributeError\u001b[0m: module 'datetime' has no attribute 'tz_convert'"
     ]
    }
   ],
   "source": [
    "for a in account:\n",
    "    if a.tag =='CashBalance':\n",
    "        print(\"Cash Balance =\"+str(a.value))\n",
    "print(\"outputting positions\")\n",
    "for p in positions:\n",
    "    print(p.contract.symbol)\n",
    "    print(\"number of shares=\" + str(len(p)))"
   ]
  }
 ],
 "metadata": {
  "kernelspec": {
   "display_name": "Python 3 (ipykernel)",
   "language": "python",
   "name": "python3"
  },
  "language_info": {
   "codemirror_mode": {
    "name": "ipython",
    "version": 3
   },
   "file_extension": ".py",
   "mimetype": "text/x-python",
   "name": "python",
   "nbconvert_exporter": "python",
   "pygments_lexer": "ipython3",
   "version": "3.8.13"
  }
 },
 "nbformat": 4,
 "nbformat_minor": 5
}
